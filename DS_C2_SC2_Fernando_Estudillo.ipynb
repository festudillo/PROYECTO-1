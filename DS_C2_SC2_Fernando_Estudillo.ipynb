{
  "nbformat": 4,
  "nbformat_minor": 0,
  "metadata": {
    "colab": {
      "provenance": [],
      "authorship_tag": "ABX9TyOyPc0mt4uOG5hnYoO2prRn",
      "include_colab_link": true
    },
    "kernelspec": {
      "name": "python3",
      "display_name": "Python 3"
    },
    "language_info": {
      "name": "python"
    }
  },
  "cells": [
    {
      "cell_type": "markdown",
      "metadata": {
        "id": "view-in-github",
        "colab_type": "text"
      },
      "source": [
        "<a href=\"https://colab.research.google.com/github/festudillo/PROYECTO-1/blob/main/DS_C2_SC2_Fernando_Estudillo.ipynb\" target=\"_parent\"><img src=\"https://colab.research.google.com/assets/colab-badge.svg\" alt=\"Open In Colab\"/></a>"
      ]
    },
    {
      "cell_type": "code",
      "execution_count": 5,
      "metadata": {
        "colab": {
          "base_uri": "https://localhost:8080/"
        },
        "id": "t0qoRrAaS2bm",
        "outputId": "ef3f2dc2-b4d6-4822-e4cc-74024d003292"
      },
      "outputs": [
        {
          "output_type": "stream",
          "name": "stdout",
          "text": [
            "<class 'pandas.core.frame.DataFrame'>\n",
            "RangeIndex: 86512 entries, 0 to 86511\n",
            "Data columns (total 15 columns):\n",
            " #   Column                               Non-Null Count  Dtype  \n",
            "---  ------                               --------------  -----  \n",
            " 0   country                              86512 non-null  object \n",
            " 1   iso_code                             86512 non-null  object \n",
            " 2   date                                 86512 non-null  object \n",
            " 3   total_vaccinations                   43607 non-null  float64\n",
            " 4   people_vaccinated                    41294 non-null  float64\n",
            " 5   people_fully_vaccinated              38802 non-null  float64\n",
            " 6   daily_vaccinations_raw               35362 non-null  float64\n",
            " 7   daily_vaccinations                   86213 non-null  float64\n",
            " 8   total_vaccinations_per_hundred       43607 non-null  float64\n",
            " 9   people_vaccinated_per_hundred        41294 non-null  float64\n",
            " 10  people_fully_vaccinated_per_hundred  38802 non-null  float64\n",
            " 11  daily_vaccinations_per_million       86213 non-null  float64\n",
            " 12  vaccines                             86512 non-null  object \n",
            " 13  source_name                          86512 non-null  object \n",
            " 14  source_website                       86512 non-null  object \n",
            "dtypes: float64(9), object(6)\n",
            "memory usage: 9.9+ MB\n",
            "Vacunas por compañía:\n",
            "vaccines\n",
            "CanSino, Sinopharm/Beijing, Sinopharm/Wuhan, Sinovac, ZF2001     7.094527e+11\n",
            "Covaxin, Oxford/AstraZeneca, Sputnik V                           3.234403e+11\n",
            "Johnson&Johnson, Moderna, Pfizer/BioNTech                        1.617576e+11\n",
            "Moderna, Oxford/AstraZeneca, Pfizer/BioNTech                     1.153913e+11\n",
            "Johnson&Johnson, Moderna, Oxford/AstraZeneca, Pfizer/BioNTech    9.962579e+10\n",
            "                                                                     ...     \n",
            "Pfizer/BioNTech, Sinopharm/Beijing, Sputnik V                    6.915494e+06\n",
            "Oxford/AstraZeneca, Pfizer/BioNTech, Sputnik V                   6.840405e+06\n",
            "Moderna                                                          6.531798e+06\n",
            "Johnson&Johnson, Moderna                                         4.984467e+06\n",
            "Pfizer/BioNTech, Sputnik V                                       3.863380e+06\n",
            "Name: total_vaccinations, Length: 84, dtype: float64\n",
            "\n",
            "Total de vacunas aplicadas en el mundo: 2002854013761.0\n",
            "\n",
            "Promedio de vacunas aplicadas por país: 8981408133.4574\n",
            "\n",
            "Vacunas aplicadas el 29/01/2021: 4884052.0\n",
            "\n",
            "Periodo entre la fecha más antigua y la más reciente: 482 days 00:00:00\n",
            "\n",
            "Archivo Excel 'resultadosReto.xlsx' generado exitosamente con todas las hojas.\n"
          ]
        }
      ],
      "source": [
        "import pandas as pd\n",
        "\n",
        "# Paso 1: Cargar el archivo CSV\n",
        "df = pd.read_csv('country_vaccinations.csv')\n",
        "\n",
        "# Paso 2: Mostrar la estructura y tipos de datos\n",
        "df.info()\n",
        "\n",
        "# Paso 3: Cambio de columnas de fechas a datetime64.\n",
        "df['date'] = pd.to_datetime(df['date'], format='%Y-%m-%d')\n",
        "\n",
        "# Paso 4: Cantidad de vacunas aplicadas por compañía\n",
        "vacunas_por_compania = df.groupby('vaccines')['total_vaccinations'].sum().sort_values(ascending=False)\n",
        "print(\"Vacunas por compañía:\")\n",
        "print(vacunas_por_compania)\n",
        "\n",
        "# Paso 5: Total de vacunas aplicadas en todo el mundo\n",
        "vacunas_totales_mundo = df['total_vaccinations'].sum()\n",
        "print(f\"\\nTotal de vacunas aplicadas en el mundo: {vacunas_totales_mundo}\")\n",
        "\n",
        "# Paso 6: Promedio de vacunas aplicadas por país\n",
        "promedio_vacunas_por_pais = df.groupby('country')['total_vaccinations'].sum().mean()\n",
        "print(f\"\\nPromedio de vacunas aplicadas por país: {promedio_vacunas_por_pais}\")\n",
        "\n",
        "# Paso 7: Vacunas aplicadas el 29/01/2021\n",
        "vacunas_29_enero = df[df['date'] == '2021-01-29']['daily_vaccinations'].sum()\n",
        "print(f\"\\nVacunas aplicadas el 29/01/2021: {vacunas_29_enero}\")\n",
        "\n",
        "# Paso 8: Crear DataFrame 'conDiferencias'\n",
        "df_conDiferencias = df.copy()\n",
        "df_conDiferencias['diferencias'] = df_conDiferencias['daily_vaccinations'] - df_conDiferencias['daily_vaccinations_raw']\n",
        "\n",
        "# Paso 9: Periodo entre fechas\n",
        "fecha_max = df['date'].max()\n",
        "fecha_min = df['date'].min()\n",
        "periodo = fecha_max - fecha_min\n",
        "print(f\"\\nPeriodo entre la fecha más antigua y la más reciente: {periodo}\")\n",
        "\n",
        "# Paso 10: Crear DataFrame 'conCantidad' con la cantidad de vacunas distintas aplicadas cada día\n",
        "df_conCantidad = df.copy()\n",
        "df_conCantidad['canVac'] = df_conCantidad['vaccines'].apply(lambda x: len(x.split(',')))\n",
        "\n",
        "# Paso 11: DataFrame 'antes20' (antes del 20 de diciembre de 2020)\n",
        "df_antes_20 = df[df['date'] < '2020-12-20']\n",
        "\n",
        "# Paso 12: DataFrame 'pfizer' (registros que incluyan la vacuna Pfizer)\n",
        "df_pfizer = df[df['vaccines'].str.contains('Pfizer', na=False)]\n",
        "\n",
        "# Paso 13: Exportar a Excel con múltiples hojas\n",
        "output_file = 'resultadosReto.xlsx'\n",
        "with pd.ExcelWriter(output_file) as writer:\n",
        "    df_conDiferencias.to_excel(writer, sheet_name='conDiferencias', index=False)\n",
        "    df_conCantidad.to_excel(writer, sheet_name='conCantidad', index=False)\n",
        "    df_antes_20.to_excel(writer, sheet_name='antes20', index=False)\n",
        "    df_pfizer.to_excel(writer, sheet_name='pfizer', index=False)\n",
        "\n",
        "print(f\"\\nArchivo Excel '{output_file}' generado exitosamente con todas las hojas.\")"
      ]
    }
  ]
}